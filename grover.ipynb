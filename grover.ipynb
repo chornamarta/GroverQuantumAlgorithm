{
 "cells": [
  {
   "cell_type": "code",
   "execution_count": 1,
   "metadata": {},
   "outputs": [],
   "source": [
    "import pandas"
   ]
  },
  {
   "cell_type": "code",
   "execution_count": 8,
   "metadata": {},
   "outputs": [],
   "source": [
    "import numpy as np"
   ]
  },
  {
   "cell_type": "code",
   "execution_count": 2,
   "metadata": {},
   "outputs": [],
   "source": [
    "dd = pandas.read_csv('AgeDataset-V1.csv')"
   ]
  },
  {
   "cell_type": "code",
   "execution_count": 3,
   "metadata": {},
   "outputs": [],
   "source": [
    "df = dd[['Name','Age of death']]"
   ]
  },
  {
   "cell_type": "code",
   "execution_count": 4,
   "metadata": {},
   "outputs": [
    {
     "name": "stderr",
     "output_type": "stream",
     "text": [
      "C:\\Users\\Admin\\AppData\\Local\\Temp\\ipykernel_9700\\1517470679.py:1: SettingWithCopyWarning: \n",
      "A value is trying to be set on a copy of a slice from a DataFrame.\n",
      "Try using .loc[row_indexer,col_indexer] = value instead\n",
      "\n",
      "See the caveats in the documentation: https://pandas.pydata.org/pandas-docs/stable/user_guide/indexing.html#returning-a-view-versus-a-copy\n",
      "  df['Age of death'] = df['Age of death'].convert_dtypes('int')\n"
     ]
    }
   ],
   "source": [
    "df['Age of death'] = df['Age of death'].convert_dtypes('int')"
   ]
  },
  {
   "cell_type": "code",
   "execution_count": 5,
   "metadata": {},
   "outputs": [],
   "source": [
    "df = df.dropna()"
   ]
  },
  {
   "cell_type": "code",
   "execution_count": 31,
   "metadata": {},
   "outputs": [],
   "source": [
    "people_df = df.rename(columns={'Name': 'name', 'Age of death': 'age'})\n"
   ]
  },
  {
   "cell_type": "code",
   "execution_count": 9,
   "metadata": {},
   "outputs": [
    {
     "data": {
      "text/html": [
       "<div>\n",
       "<style scoped>\n",
       "    .dataframe tbody tr th:only-of-type {\n",
       "        vertical-align: middle;\n",
       "    }\n",
       "\n",
       "    .dataframe tbody tr th {\n",
       "        vertical-align: top;\n",
       "    }\n",
       "\n",
       "    .dataframe thead th {\n",
       "        text-align: right;\n",
       "    }\n",
       "</style>\n",
       "<table border=\"1\" class=\"dataframe\">\n",
       "  <thead>\n",
       "    <tr style=\"text-align: right;\">\n",
       "      <th></th>\n",
       "      <th>name</th>\n",
       "      <th>age</th>\n",
       "      <th>year</th>\n",
       "    </tr>\n",
       "  </thead>\n",
       "  <tbody>\n",
       "    <tr>\n",
       "      <th>0</th>\n",
       "      <td>George Washington</td>\n",
       "      <td>67</td>\n",
       "      <td>2023</td>\n",
       "    </tr>\n",
       "    <tr>\n",
       "      <th>1</th>\n",
       "      <td>Douglas Adams</td>\n",
       "      <td>49</td>\n",
       "      <td>1433</td>\n",
       "    </tr>\n",
       "    <tr>\n",
       "      <th>2</th>\n",
       "      <td>Abraham Lincoln</td>\n",
       "      <td>56</td>\n",
       "      <td>1135</td>\n",
       "    </tr>\n",
       "    <tr>\n",
       "      <th>3</th>\n",
       "      <td>Wolfgang Amadeus Mozart</td>\n",
       "      <td>35</td>\n",
       "      <td>1043</td>\n",
       "    </tr>\n",
       "    <tr>\n",
       "      <th>4</th>\n",
       "      <td>Ludwig van Beethoven</td>\n",
       "      <td>57</td>\n",
       "      <td>832</td>\n",
       "    </tr>\n",
       "  </tbody>\n",
       "</table>\n",
       "</div>"
      ],
      "text/plain": [
       "                      name  age  year\n",
       "0        George Washington   67  2023\n",
       "1            Douglas Adams   49  1433\n",
       "2          Abraham Lincoln   56  1135\n",
       "3  Wolfgang Amadeus Mozart   35  1043\n",
       "4     Ludwig van Beethoven   57   832"
      ]
     },
     "execution_count": 9,
     "metadata": {},
     "output_type": "execute_result"
    }
   ],
   "source": [
    "# Generate random years for the new column\n",
    "min_year = 500\n",
    "max_year = 2024\n",
    "random_years = np.random.randint(low=min_year, high=max_year + 1, size=len(df))\n",
    "# Create a new column named 'comuln' and assign the random years\n",
    "people_df['year'] =random_years \n",
    "people_df.head()"
   ]
  },
  {
   "cell_type": "markdown",
   "metadata": {},
   "source": [
    "### grover"
   ]
  },
  {
   "cell_type": "code",
   "execution_count": 10,
   "metadata": {},
   "outputs": [],
   "source": [
    "from qiskit import QuantumCircuit, transpile,assemble\n",
    "from qiskit_aer import Aer\n",
    "import random\n",
    "import time "
   ]
  },
  {
   "cell_type": "code",
   "execution_count": 32,
   "metadata": {},
   "outputs": [
    {
     "data": {
      "text/html": [
       "<div>\n",
       "<style scoped>\n",
       "    .dataframe tbody tr th:only-of-type {\n",
       "        vertical-align: middle;\n",
       "    }\n",
       "\n",
       "    .dataframe tbody tr th {\n",
       "        vertical-align: top;\n",
       "    }\n",
       "\n",
       "    .dataframe thead th {\n",
       "        text-align: right;\n",
       "    }\n",
       "</style>\n",
       "<table border=\"1\" class=\"dataframe\">\n",
       "  <thead>\n",
       "    <tr style=\"text-align: right;\">\n",
       "      <th></th>\n",
       "      <th>name</th>\n",
       "      <th>age</th>\n",
       "    </tr>\n",
       "  </thead>\n",
       "  <tbody>\n",
       "    <tr>\n",
       "      <th>890760</th>\n",
       "      <td>Alexa Bokotej</td>\n",
       "      <td>90</td>\n",
       "    </tr>\n",
       "  </tbody>\n",
       "</table>\n",
       "</div>"
      ],
      "text/plain": [
       "                 name  age\n",
       "890760  Alexa Bokotej   90"
      ]
     },
     "execution_count": 32,
     "metadata": {},
     "output_type": "execute_result"
    }
   ],
   "source": [
    "people_df.loc[people_df['name']=='Alexa Bokotej']"
   ]
  },
  {
   "cell_type": "code",
   "execution_count": 33,
   "metadata": {},
   "outputs": [],
   "source": [
    "distinct_df = people_df.drop_duplicates(subset='age')"
   ]
  },
  {
   "cell_type": "code",
   "execution_count": 34,
   "metadata": {},
   "outputs": [],
   "source": [
    "distinct_df =distinct_df.dropna()"
   ]
  },
  {
   "cell_type": "code",
   "execution_count": 35,
   "metadata": {},
   "outputs": [
    {
     "data": {
      "text/plain": [
       "130"
      ]
     },
     "execution_count": 35,
     "metadata": {},
     "output_type": "execute_result"
    }
   ],
   "source": [
    "len(distinct_df)"
   ]
  },
  {
   "cell_type": "code",
   "execution_count": 44,
   "metadata": {},
   "outputs": [],
   "source": [
    "def num_to_bin(num):\n",
    "    return format(num, '08b')"
   ]
  },
  {
   "cell_type": "code",
   "execution_count": 46,
   "metadata": {},
   "outputs": [],
   "source": [
    "distinct_df['age_bin'] = distinct_df['age'].apply(num_to_bin)"
   ]
  },
  {
   "cell_type": "code",
   "execution_count": 47,
   "metadata": {},
   "outputs": [
    {
     "data": {
      "text/html": [
       "<div>\n",
       "<style scoped>\n",
       "    .dataframe tbody tr th:only-of-type {\n",
       "        vertical-align: middle;\n",
       "    }\n",
       "\n",
       "    .dataframe tbody tr th {\n",
       "        vertical-align: top;\n",
       "    }\n",
       "\n",
       "    .dataframe thead th {\n",
       "        text-align: right;\n",
       "    }\n",
       "</style>\n",
       "<table border=\"1\" class=\"dataframe\">\n",
       "  <thead>\n",
       "    <tr style=\"text-align: right;\">\n",
       "      <th></th>\n",
       "      <th>name</th>\n",
       "      <th>age</th>\n",
       "      <th>age_bin</th>\n",
       "    </tr>\n",
       "  </thead>\n",
       "  <tbody>\n",
       "    <tr>\n",
       "      <th>0</th>\n",
       "      <td>George Washington</td>\n",
       "      <td>67</td>\n",
       "      <td>01000011</td>\n",
       "    </tr>\n",
       "    <tr>\n",
       "      <th>1</th>\n",
       "      <td>Douglas Adams</td>\n",
       "      <td>49</td>\n",
       "      <td>00110001</td>\n",
       "    </tr>\n",
       "    <tr>\n",
       "      <th>2</th>\n",
       "      <td>Abraham Lincoln</td>\n",
       "      <td>56</td>\n",
       "      <td>00111000</td>\n",
       "    </tr>\n",
       "    <tr>\n",
       "      <th>3</th>\n",
       "      <td>Wolfgang Amadeus Mozart</td>\n",
       "      <td>35</td>\n",
       "      <td>00100011</td>\n",
       "    </tr>\n",
       "    <tr>\n",
       "      <th>4</th>\n",
       "      <td>Ludwig van Beethoven</td>\n",
       "      <td>57</td>\n",
       "      <td>00111001</td>\n",
       "    </tr>\n",
       "  </tbody>\n",
       "</table>\n",
       "</div>"
      ],
      "text/plain": [
       "                      name  age   age_bin\n",
       "0        George Washington   67  01000011\n",
       "1            Douglas Adams   49  00110001\n",
       "2          Abraham Lincoln   56  00111000\n",
       "3  Wolfgang Amadeus Mozart   35  00100011\n",
       "4     Ludwig van Beethoven   57  00111001"
      ]
     },
     "execution_count": 47,
     "metadata": {},
     "output_type": "execute_result"
    }
   ],
   "source": [
    "distinct_df.head()"
   ]
  },
  {
   "cell_type": "code",
   "execution_count": 49,
   "metadata": {},
   "outputs": [
    {
     "name": "stdout",
     "output_type": "stream",
     "text": [
      "Maximum length of binary strings: 8\n",
      "minimum  8\n"
     ]
    }
   ],
   "source": [
    "# Find the maximum length of binary strings\n",
    "max_length = distinct_df['age_bin'].str.len().max()\n",
    "\n",
    "print(\"Maximum length of binary strings:\", max_length)\n",
    "print('minimum ', distinct_df['age_bin'].str.len().min())"
   ]
  },
  {
   "cell_type": "code",
   "execution_count": 54,
   "metadata": {},
   "outputs": [
    {
     "name": "stdout",
     "output_type": "stream",
     "text": [
      "01111100\n"
     ]
    }
   ],
   "source": [
    "target_age = 124\n",
    "target_bin = num_to_bin(target_age)\n",
    "print(target_bin)"
   ]
  },
  {
   "cell_type": "code",
   "execution_count": 53,
   "metadata": {},
   "outputs": [
    {
     "data": {
      "text/html": [
       "<div>\n",
       "<style scoped>\n",
       "    .dataframe tbody tr th:only-of-type {\n",
       "        vertical-align: middle;\n",
       "    }\n",
       "\n",
       "    .dataframe tbody tr th {\n",
       "        vertical-align: top;\n",
       "    }\n",
       "\n",
       "    .dataframe thead th {\n",
       "        text-align: right;\n",
       "    }\n",
       "</style>\n",
       "<table border=\"1\" class=\"dataframe\">\n",
       "  <thead>\n",
       "    <tr style=\"text-align: right;\">\n",
       "      <th></th>\n",
       "      <th>name</th>\n",
       "      <th>age</th>\n",
       "      <th>age_bin</th>\n",
       "    </tr>\n",
       "  </thead>\n",
       "  <tbody>\n",
       "    <tr>\n",
       "      <th>436414</th>\n",
       "      <td>Charlie Smith</td>\n",
       "      <td>137</td>\n",
       "      <td>10001001</td>\n",
       "    </tr>\n",
       "    <tr>\n",
       "      <th>498725</th>\n",
       "      <td>Henry Jenkins</td>\n",
       "      <td>169</td>\n",
       "      <td>10101001</td>\n",
       "    </tr>\n",
       "    <tr>\n",
       "      <th>586513</th>\n",
       "      <td>Noah Raby</td>\n",
       "      <td>132</td>\n",
       "      <td>10000100</td>\n",
       "    </tr>\n",
       "    <tr>\n",
       "      <th>757212</th>\n",
       "      <td>Carmelo Flores Laura</td>\n",
       "      <td>124</td>\n",
       "      <td>01111100</td>\n",
       "    </tr>\n",
       "    <tr>\n",
       "      <th>1168975</th>\n",
       "      <td>Jane Scrimshaw</td>\n",
       "      <td>127</td>\n",
       "      <td>01111111</td>\n",
       "    </tr>\n",
       "  </tbody>\n",
       "</table>\n",
       "</div>"
      ],
      "text/plain": [
       "                         name  age   age_bin\n",
       "436414          Charlie Smith  137  10001001\n",
       "498725          Henry Jenkins  169  10101001\n",
       "586513              Noah Raby  132  10000100\n",
       "757212   Carmelo Flores Laura  124  01111100\n",
       "1168975        Jane Scrimshaw  127  01111111"
      ]
     },
     "execution_count": 53,
     "metadata": {},
     "output_type": "execute_result"
    }
   ],
   "source": [
    "distinct_df.loc[distinct_df['age_bin'] == '01111100']\n",
    "#distinct_df.tail()"
   ]
  },
  {
   "cell_type": "code",
   "execution_count": 55,
   "metadata": {},
   "outputs": [],
   "source": [
    "# Function to create the oracle for the specific age we are looking for\n",
    "def create_oracle(n, marked_element):\n",
    "    oracle = QuantumCircuit(n)\n",
    "    for i, bit in enumerate(reversed(marked_element)):\n",
    "        if bit == '0':\n",
    "            oracle.x(i)\n",
    "    oracle.h(n-1)\n",
    "    oracle.mcx(list(range(n-1)), n-1)  # Multi-controlled X gate\n",
    "    oracle.h(n-1)\n",
    "    for i, bit in enumerate(reversed(marked_element)):\n",
    "        if bit == '0':\n",
    "            oracle.x(i)\n",
    "    return oracle"
   ]
  },
  {
   "cell_type": "code",
   "execution_count": 56,
   "metadata": {},
   "outputs": [],
   "source": [
    "# Function to create the Grover diffusion operator\n",
    "def create_diffusion_operator(n):\n",
    "    diffuser = QuantumCircuit(n)\n",
    "    diffuser.h(range(n))\n",
    "    diffuser.x(range(n))\n",
    "    diffuser.h(n-1)\n",
    "    diffuser.mcx(list(range(n-1)), n-1)  # Multi-controlled X gate\n",
    "    diffuser.h(n-1)\n",
    "    diffuser.x(range(n))\n",
    "    diffuser.h(range(n))\n",
    "    return diffuser"
   ]
  },
  {
   "cell_type": "code",
   "execution_count": 67,
   "metadata": {},
   "outputs": [
    {
     "data": {
      "text/plain": [
       "'01111100'"
      ]
     },
     "execution_count": 67,
     "metadata": {},
     "output_type": "execute_result"
    }
   ],
   "source": [
    "# Initialize parameters\n",
    "n = max_length  # Number of qubits based on binary representation length\n",
    "marked_element = target_bin\n",
    "marked_element"
   ]
  },
  {
   "cell_type": "code",
   "execution_count": 68,
   "metadata": {},
   "outputs": [],
   "source": [
    "# Create the quantum circuit\n",
    "grover_circuit = QuantumCircuit(n)"
   ]
  },
  {
   "cell_type": "code",
   "execution_count": 69,
   "metadata": {},
   "outputs": [
    {
     "data": {
      "text/plain": [
       "<qiskit.circuit.instructionset.InstructionSet at 0x20a33560550>"
      ]
     },
     "execution_count": 69,
     "metadata": {},
     "output_type": "execute_result"
    }
   ],
   "source": [
    "# Apply Hadamard gates to all qubits\n",
    "grover_circuit.h(range(n))\n"
   ]
  },
  {
   "cell_type": "code",
   "execution_count": 70,
   "metadata": {},
   "outputs": [],
   "source": [
    "\n",
    "# Create the oracle and diffusion operators\n",
    "oracle = create_oracle(n, marked_element)\n",
    "diffuser = create_diffusion_operator(n)\n"
   ]
  },
  {
   "cell_type": "code",
   "execution_count": 71,
   "metadata": {},
   "outputs": [
    {
     "data": {
      "text/plain": [
       "<qiskit.circuit.instructionset.InstructionSet at 0x20a335655d0>"
      ]
     },
     "execution_count": 71,
     "metadata": {},
     "output_type": "execute_result"
    }
   ],
   "source": [
    "\n",
    "# Apply the oracle and diffuser\n",
    "#for _ in range(num_iter):\n",
    "grover_circuit.append(oracle.to_gate(), range(n))\n",
    "grover_circuit.append(diffuser.to_gate(), range(n))\n"
   ]
  },
  {
   "cell_type": "code",
   "execution_count": 72,
   "metadata": {},
   "outputs": [],
   "source": [
    "\n",
    "# Measure the output\n",
    "grover_circuit.measure_all()\n"
   ]
  },
  {
   "cell_type": "code",
   "execution_count": 73,
   "metadata": {},
   "outputs": [],
   "source": [
    "\n",
    "# Execute the circuit on a simulator\n",
    "simulator = Aer.get_backend('qasm_simulator')\n",
    "transpiled_circuit = transpile(grover_circuit, backend=simulator)\n"
   ]
  },
  {
   "cell_type": "code",
   "execution_count": 85,
   "metadata": {},
   "outputs": [],
   "source": [
    "start_time = time.time()\n",
    "result = simulator.run(transpiled_circuit, shots=1024).result()\n",
    "end_time = time.time()\n"
   ]
  },
  {
   "cell_type": "code",
   "execution_count": 86,
   "metadata": {},
   "outputs": [
    {
     "name": "stdout",
     "output_type": "stream",
     "text": [
      "Execution time: 0.014841556549072266 seconds\n"
     ]
    }
   ],
   "source": [
    "# Calculate and print the time taken\n",
    "execution_time = end_time - start_time\n",
    "print(f\"Execution time: {execution_time} seconds\")"
   ]
  },
  {
   "cell_type": "code",
   "execution_count": 74,
   "metadata": {},
   "outputs": [
    {
     "name": "stdout",
     "output_type": "stream",
     "text": [
      "{'01010100': 5, '10111010': 5, '11111000': 4, '10111101': 5, '01010001': 6, '01100000': 5, '11011001': 4, '10010001': 7, '11000111': 2, '11101110': 4, '01110011': 3, '01001111': 10, '00100000': 7, '01111100': 41, '01000110': 3, '11011111': 8, '10001001': 5, '01110000': 6, '01001110': 8, '01000000': 7, '01111110': 6, '00101111': 3, '00110001': 4, '01000011': 3, '11011100': 5, '10011101': 3, '00110010': 5, '00101110': 3, '00010001': 4, '10011111': 3, '00001001': 2, '10100000': 4, '10101010': 2, '01010111': 3, '10111011': 8, '01111001': 6, '00001111': 2, '10010111': 5, '10100001': 4, '00001000': 5, '01001001': 4, '00111000': 7, '10011100': 4, '01111010': 5, '01000100': 3, '10000011': 1, '11011000': 4, '10000001': 5, '01011111': 4, '10110011': 4, '11110110': 6, '01101111': 6, '00010011': 3, '01011000': 8, '11011110': 5, '01100110': 4, '11111110': 3, '01100101': 4, '10100111': 2, '11000110': 6, '11101101': 4, '00100001': 4, '00111111': 6, '00001010': 7, '01101000': 8, '01001010': 6, '01110100': 6, '01011110': 3, '10110000': 4, '00110011': 4, '00101101': 3, '10011000': 8, '00100101': 4, '00111011': 6, '11111001': 4, '11001111': 3, '00101010': 2, '00110110': 4, '11110011': 5, '10100010': 3, '11000101': 7, '10111000': 6, '00110000': 2, '01110110': 4, '01001100': 11, '00000101': 6, '01101100': 6, '11010001': 4, '00001100': 2, '00011001': 4, '11010010': 4, '11001001': 5, '11011010': 4, '00000010': 2, '10001100': 2, '01101001': 2, '10010110': 5, '11111011': 3, '11001000': 6, '00101000': 4, '00100111': 3, '11010110': 4, '11101111': 5, '11000100': 3, '00000000': 3, '10101001': 7, '01111011': 2, '01000111': 3, '01101011': 3, '00011011': 4, '11111100': 5, '11000000': 6, '11101011': 3, '11001011': 3, '11100000': 2, '10101101': 3, '10110101': 6, '01110010': 5, '00000110': 4, '00110101': 1, '00101011': 2, '11110100': 2, '00001101': 2, '00111101': 4, '00100011': 7, '11110010': 4, '11011011': 7, '10001101': 2, '00010111': 9, '00110100': 4, '00101100': 4, '10110111': 4, '01011011': 6, '00010000': 7, '10101011': 5, '01100111': 3, '01100010': 3, '01001101': 5, '01110001': 5, '01100001': 5, '11001101': 2, '11100110': 3, '10000100': 9, '00011010': 6, '00001011': 3, '10110010': 6, '10011010': 4, '11100111': 3, '11001110': 4, '11111101': 3, '10101110': 6, '01111101': 3, '01000001': 2, '01010000': 1, '10111110': 5, '10111100': 3, '01010110': 6, '00010101': 4, '00111100': 4, '00100100': 2, '00011111': 3, '11011101': 4, '00110111': 4, '00000011': 5, '01101010': 6, '11110001': 3, '00101001': 4, '01110111': 1, '01001011': 2, '01100011': 5, '00000001': 3, '10101000': 3, '01011010': 6, '10110100': 3, '01100100': 4, '00010110': 3, '01111000': 5, '11101010': 3, '01001000': 3, '01010101': 2, '01101101': 6, '10001000': 4, '11000001': 3, '11101100': 3, '00100110': 7, '00111010': 2, '10011110': 2, '11100001': 2, '11001100': 3, '11010111': 3, '01000101': 5, '10001011': 6, '11010101': 3, '10000101': 3, '11110000': 2, '00000111': 4, '10101111': 3, '10100110': 4, '11000010': 3, '11111010': 7, '10010100': 3, '10000111': 4, '01011101': 3, '00011110': 3, '10000000': 5, '11101000': 2, '11111111': 3, '00100010': 4, '00111110': 5, '10100101': 7, '11110111': 4, '10000010': 5, '00000100': 3, '10101100': 1, '01011001': 3, '10001110': 4, '11010000': 5, '10010010': 1, '10001111': 4, '01011100': 1, '10110110': 2, '11100010': 3, '10000110': 7, '10010000': 2, '00001110': 2, '01101110': 4, '11110101': 3, '00111001': 2, '11001010': 3, '11100011': 3, '10111001': 2, '10010011': 1, '01110101': 2, '00010010': 2, '11010011': 1, '01010011': 1, '01000010': 3, '10011001': 1, '11010100': 4, '00011100': 4, '10011011': 2, '00011101': 2, '10100011': 2, '01010010': 2, '00011000': 1, '11101001': 2, '11100101': 2, '10100100': 2}\n"
     ]
    }
   ],
   "source": [
    "\n",
    "# Get and plot the results\n",
    "counts = result.get_counts()\n",
    "print(counts)\n"
   ]
  },
  {
   "cell_type": "code",
   "execution_count": 83,
   "metadata": {},
   "outputs": [],
   "source": [
    "import matplotlib.pyplot as plt\n",
    "\n",
    "from qiskit.visualization import plot_histogram\n"
   ]
  },
  {
   "cell_type": "code",
   "execution_count": 75,
   "metadata": {},
   "outputs": [],
   "source": [
    "\n",
    "# Decode the result to find the corresponding name\n",
    "# Extract the state with the highest count\n",
    "most_likely_state = max(counts, key=counts.get)\n"
   ]
  },
  {
   "cell_type": "code",
   "execution_count": 76,
   "metadata": {},
   "outputs": [
    {
     "data": {
      "text/plain": [
       "'01111100'"
      ]
     },
     "execution_count": 76,
     "metadata": {},
     "output_type": "execute_result"
    }
   ],
   "source": [
    "most_likely_state"
   ]
  },
  {
   "cell_type": "code",
   "execution_count": 109,
   "metadata": {},
   "outputs": [
    {
     "data": {
      "image/png": "[encoded data removed]",
      "text/plain": [
       "<Figure size 1500x600 with 1 Axes>"
      ]
     },
     "metadata": {},
     "output_type": "display_data"
    }
   ],
   "source": [
    "plt.figure(figsize=(15,6))\n",
    "plt.bar(list(counts.keys()), counts.values(), color='g')\n",
    "plt.bar(most_likely_state,max(counts.values()),color='r')\n",
    "plt.xticks(rotation=90)\n",
    "plt.show()"
   ]
  },
  {
   "cell_type": "code",
   "execution_count": 79,
   "metadata": {},
   "outputs": [
    {
     "data": {
      "text/html": [
       "<div>\n",
       "<style scoped>\n",
       "    .dataframe tbody tr th:only-of-type {\n",
       "        vertical-align: middle;\n",
       "    }\n",
       "\n",
       "    .dataframe tbody tr th {\n",
       "        vertical-align: top;\n",
       "    }\n",
       "\n",
       "    .dataframe thead th {\n",
       "        text-align: right;\n",
       "    }\n",
       "</style>\n",
       "<table border=\"1\" class=\"dataframe\">\n",
       "  <thead>\n",
       "    <tr style=\"text-align: right;\">\n",
       "      <th></th>\n",
       "      <th>name</th>\n",
       "      <th>age</th>\n",
       "      <th>age_bin</th>\n",
       "    </tr>\n",
       "  </thead>\n",
       "  <tbody>\n",
       "    <tr>\n",
       "      <th>757212</th>\n",
       "      <td>Carmelo Flores Laura</td>\n",
       "      <td>124</td>\n",
       "      <td>01111100</td>\n",
       "    </tr>\n",
       "  </tbody>\n",
       "</table>\n",
       "</div>"
      ],
      "text/plain": [
       "                        name  age   age_bin\n",
       "757212  Carmelo Flores Laura  124  01111100"
      ]
     },
     "execution_count": 79,
     "metadata": {},
     "output_type": "execute_result"
    }
   ],
   "source": [
    "distinct_df.loc[distinct_df['age_bin']==most_likely_state]"
   ]
  },
  {
   "cell_type": "markdown",
   "metadata": {},
   "source": [
    "### classic"
   ]
  },
  {
   "cell_type": "code",
   "execution_count": 87,
   "metadata": {},
   "outputs": [],
   "source": [
    "def brute_force_search(df,target_age):\n",
    "    found_name = \"\"\n",
    "    for index, row in df.iterrows():\n",
    "        if (row['age'] == target_age):\n",
    "            found_name = row['name']\n",
    "    return found_name"
   ]
  },
  {
   "cell_type": "code",
   "execution_count": 90,
   "metadata": {},
   "outputs": [
    {
     "name": "stdout",
     "output_type": "stream",
     "text": [
      "Person found with age 124: Carmelo Flores Laura\n"
     ]
    }
   ],
   "source": [
    "# Code to be timed\n",
    "target_age = 124\n",
    "result = brute_force_search(distinct_df, target_age)\n",
    "\n",
    "# Print the result\n",
    "if result:\n",
    "    print(f\"Person found with age {target_age}: {', '.join(result)}\")\n",
    "else:\n",
    "    print(f\"No person found with age {target_age} \")"
   ]
  },
  {
   "cell_type": "code",
   "execution_count": 91,
   "metadata": {},
   "outputs": [],
   "source": [
    "start_time = time.time()\n",
    "result = brute_force_search(distinct_df, target_age)\n",
    "end_time = time.time()"
   ]
  },
  {
   "cell_type": "code",
   "execution_count": 101,
   "metadata": {},
   "outputs": [
    {
     "name": "stdout",
     "output_type": "stream",
     "text": [
      "Execution time: 0.19446349143981934 seconds\n"
     ]
    }
   ],
   "source": [
    "# Calculate and print the time taken\n",
    "start_time = time.time()\n",
    "result = brute_force_search(distinct_df, target_age)\n",
    "end_time = time.time()\n",
    "\n",
    "execution_time = end_time - start_time\n",
    "print(f\"Execution time: {execution_time} seconds\")"
   ]
  },
  {
   "cell_type": "markdown",
   "metadata": {},
   "source": [
    "### connect ibm"
   ]
  },
  {
   "cell_type": "code",
   "execution_count": 95,
   "metadata": {},
   "outputs": [],
   "source": [
    "from qiskit_ibm_runtime import QiskitRuntimeService\n"
   ]
  },
  {
   "cell_type": "code",
   "execution_count": 96,
   "metadata": {},
   "outputs": [],
   "source": [
    "# Authenticate with IBM Quantum\n",
    "service = QiskitRuntimeService(channel=\"ibm_quantum\", \n",
    "                                token='')"
   ]
  },
  {
   "cell_type": "code",
   "execution_count": 97,
   "metadata": {},
   "outputs": [],
   "source": [
    "# Select the backend\n",
    "backend = service.backend(name=\"ibm_brisbane\")"
   ]
  },
  {
   "cell_type": "code",
   "execution_count": 98,
   "metadata": {},
   "outputs": [],
   "source": [
    "# Transpile the circuit for the selected backend\n",
    "transpiled_circuit = transpile(grover_circuit, backend)"
   ]
  },
  {
   "cell_type": "code",
   "execution_count": 99,
   "metadata": {},
   "outputs": [],
   "source": [
    "start_time = time.time()\n",
    "result = simulator.run(transpiled_circuit, shots=1024).result()\n",
    "end_time = time.time()"
   ]
  },
  {
   "cell_type": "code",
   "execution_count": 100,
   "metadata": {},
   "outputs": [
    {
     "name": "stdout",
     "output_type": "stream",
     "text": [
      "Execution time: 0.19446349143981934 seconds\n"
     ]
    }
   ],
   "source": [
    "# Calculate and print the time taken\n",
    "execution_time = end_time - start_time\n",
    "print(f\"Execution time: {execution_time} seconds\")"
   ]
  }
 ],
 "metadata": {
  "kernelspec": {
   "display_name": "Python 3",
   "language": "python",
   "name": "python3"
  },
  "language_info": {
   "codemirror_mode": {
    "name": "ipython",
    "version": 3
   },
   "file_extension": ".py",
   "mimetype": "text/x-python",
   "name": "python",
   "nbconvert_exporter": "python",
   "pygments_lexer": "ipython3",
   "version": "3.12.3"
  }
 },
 "nbformat": 4,
 "nbformat_minor": 2
}
